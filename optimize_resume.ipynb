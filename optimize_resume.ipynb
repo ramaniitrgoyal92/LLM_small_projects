{
 "cells": [
  {
   "cell_type": "code",
   "execution_count": null,
   "metadata": {},
   "outputs": [],
   "source": [
    "from langchain_community.chat_models import ChatOllama\n",
    "from langchain.prompts import ChatPromptTemplate\n",
    "from langchain_core.output_parsers import StrOutputParser\n",
    "\n",
    "import markdown\n",
    "import pdfkit"
   ]
  },
  {
   "cell_type": "code",
   "execution_count": 3,
   "metadata": {},
   "outputs": [
    {
     "data": {
      "text/plain": [
       "True"
      ]
     },
     "execution_count": 3,
     "metadata": {},
     "output_type": "execute_result"
    }
   ],
   "source": [
    "# Step 1: Fetch the webpage content\n",
    "import requests\n",
    "from bs4 import BeautifulSoup\n",
    "\n",
    "url = \"https://ramaniitrgoyal92.github.io/\"  # Replace with the actual URL\n",
    "response = requests.get(url)\n",
    "\n",
    "# Step 2: Parse the webpage content\n",
    "soup = BeautifulSoup(response.text, 'html.parser')\n",
    "\n",
    "# Step 3: Save the parsed HTML to a file\n",
    "with open(\"Raman_website.html\", \"w\", encoding=\"utf-8\") as file:\n",
    "    file.write(soup.prettify())\n",
    "\n",
    "# Convert HTML to PDF\n",
    "config = pdfkit.configuration(wkhtmltopdf='C:/Program Files/wkhtmltopdf/bin/wkhtmltopdf.exe')\n",
    "pdfkit.from_file('Raman_website.html', 'Raman_website.pdf', configuration=config)\n"
   ]
  },
  {
   "cell_type": "code",
   "execution_count": 4,
   "metadata": {},
   "outputs": [],
   "source": [
    "# Extract text from PDF\n",
    "import pdfplumber\n",
    "from markdownify import markdownify as md\n",
    "\n",
    "with pdfplumber.open(\"Raman_website.pdf\") as pdf:\n",
    "    text = \"\"\n",
    "    for page in pdf.pages:\n",
    "        text += page.extract_text()\n",
    "\n",
    "# Convert extracted text to Markdown\n",
    "md_resume = md(text)\n",
    "\n",
    "# Save the markdown content to a file\n",
    "with open(\"Raman_website.md\", \"w\", encoding=\"utf-8\") as md_file:\n",
    "    md_file.write(md_resume)"
   ]
  },
  {
   "cell_type": "code",
   "execution_count": 5,
   "metadata": {},
   "outputs": [],
   "source": [
    "# Resume Optimization\n",
    "job_description = \"Machining Learning, controls, optimization and modeling for self driving cars\"\n",
    "\n",
    "template = f\"\"\"\n",
    "I have a resume formatted in Markdown and a job description. \\\n",
    "Please adapt my resume to better align with the job requirements while \\\n",
    "maintaining a professional tone. Tailor my skills, experiences, and \\\n",
    "achievements to highlight the most relevant points for the position. \\\n",
    "Ensure that my resume still reflects my unique qualifications and strengths \\\n",
    "but emphasizes the skills and experiences that match the job description.\n",
    "\n",
    "### Here is my resume in Markdown:\n",
    "{md_resume}\n",
    "\n",
    "### Here is the job description:\n",
    "{job_description}\n",
    "\n",
    "Please modify the resume to:\n",
    "- Use keywords and phrases from the job description.\n",
    "- Adjust the bullet points under each role to emphasize relevant skills and achievements.\n",
    "- Make sure my experiences are presented in a way that matches the required qualifications.\n",
    "- Maintain clarity, conciseness, and professionalism throughout.\n",
    "\n",
    "Return the updated resume in Markdown format and dont write anything extra.\n",
    "\"\"\""
   ]
  },
  {
   "cell_type": "code",
   "execution_count": 6,
   "metadata": {},
   "outputs": [
    {
     "name": "stderr",
     "output_type": "stream",
     "text": [
      "C:\\Users\\E35137\\AppData\\Local\\Temp\\ipykernel_28196\\3885296569.py:2: LangChainDeprecationWarning: The class `ChatOllama` was deprecated in LangChain 0.3.1 and will be removed in 1.0.0. An updated version of the class exists in the :class:`~langchain-ollama package and should be used instead. To use it run `pip install -U :class:`~langchain-ollama` and import as `from :class:`~langchain_ollama import ChatOllama``.\n",
      "  llm = ChatOllama(model=model, temperature=0)\n"
     ]
    }
   ],
   "source": [
    "model = \"llama3.1\"  # \"mistral\" | \"llama3\" | \"phi3\" | \"dolphin-llama3\"\n",
    "llm = ChatOllama(model=model, temperature=0)\n",
    "\n",
    "# Chain\n",
    "full_prompt = ChatPromptTemplate.from_template(template)\n",
    "generate_queries_decomposition = (full_prompt | llm)"
   ]
  },
  {
   "cell_type": "code",
   "execution_count": 7,
   "metadata": {},
   "outputs": [
    {
     "name": "stdout",
     "output_type": "stream",
     "text": [
      "Raman Goyal, Ph.D.\n",
      "Research Scientist\n",
      "About me\n",
      "I am currently working as an Advanced Computer Scientist at the renowned Palo Alto Research Center ( PARC ), part of SRI International . At PARC\\-SRI, I lead interdisciplinary data science projects in Machine Learning, Controls & Optimization for self-driving cars and other autonomous systems. My expertise includes Reinforcement Learning, Motion Planning, and Optimal Control.\n",
      "Research Interest:\n",
      "Machine Learning for Self-Driving Cars\n",
      "Reinforcement Learning Algorithms for Autonomous Systems\n",
      "Optimization and Modeling for Autonomous Vehicle Navigation\n",
      "Digital Twin Models for Predictive Maintenance and System Health Diagnosis\n",
      "Privacy and Security in Autonomous Systems\n",
      "\n",
      "### Experience\n",
      "**Advanced Computer Scientist, PARC-SRI (2020-Present)**\n",
      "* Led projects on Machine Learning, Controls & Optimization for self-driving cars and other autonomous systems.\n",
      "* Developed Reinforcement Learning algorithms for high-DOF robotic systems.\n",
      "* Designed and optimized Motion Planning and Feedback Control systems for autonomous vehicles.\n",
      "* Implemented Digital Twin Models for predictive maintenance and system health diagnosis.\n",
      "\n",
      "**Ph.D. in Aerospace Engineering, Texas A&M University (2016-2020)**\n",
      "* Conducted research on optimal control of soft robotics using data-driven reinforcement learning approaches.\n",
      "* Developed Machine Learning-enhanced models for predicting the behavior of autonomous systems.\n",
      "* Collaborated with industry partners to develop AI-driven solutions for self-driving cars.\n",
      "\n",
      "**Bachelor’s in Mechanical Engineering, IIT Roorkee (2013-2017)**\n",
      "* Completed coursework in Control Systems, Optimization Techniques, and Machine Learning.\n",
      "* Participated in projects on Motion Planning and Feedback Control for autonomous systems.\n",
      "\n",
      "Research Interest:\n",
      "Motion Planning and Feedback Control for Autonomous Systems\n",
      "Reinforcement Learning Algorithms for High-DOF Robotic Systems\n",
      "Optimal Sensing/Estimation and Uncertainty Quantification for Dynamical Systems\n",
      "Machine Learning-enhanced Digital Twin Models for Dynamical Systems\n",
      "AI-driven Digital Twin Infrastructure for System Health Diagnosis and Prognosis\n",
      "Enhancing Privacy and Security Against Adversarial Attacks in Autonomous Systems\n",
      "Machine Learning-assisted Innovation in Novel Sensor Systems\n",
      "System-level Design and Optimization of Autonomous Systems\n",
      "\n",
      "FOLLOW: GITHUB \u0000 FEED\n",
      "Sitemap\n",
      "Follow me on GitHub\n",
      "Subscribe to my feed\n"
     ]
    }
   ],
   "source": [
    "# Run\n",
    "updated_resume = generate_queries_decomposition.invoke({\"md_resume\": md_resume, \"job_description\": job_description})\n",
    "updated_md_resume = updated_resume.content\n",
    "print(updated_md_resume)"
   ]
  },
  {
   "cell_type": "code",
   "execution_count": 8,
   "metadata": {},
   "outputs": [
    {
     "data": {
      "text/plain": [
       "True"
      ]
     },
     "execution_count": 8,
     "metadata": {},
     "output_type": "execute_result"
    }
   ],
   "source": [
    "# Convert updated Markdown to PDF\n",
    "with open(\"Raman_website_updated.md\", \"w\", encoding=\"utf-8\") as md_file:\n",
    "    md_file.write(updated_md_resume)\n",
    "\n",
    "html_content = markdown.markdown(updated_md_resume)\n",
    "\n",
    "with open(\"Raman_website_updated.html\", \"w\", encoding=\"utf-8\") as html_file:\n",
    "    html_file.write(html_content)\n",
    "\n",
    "pdfkit.from_file('Raman_website_updated.html', 'Raman_website_updated.pdf', configuration=config)\n"
   ]
  },
  {
   "cell_type": "code",
   "execution_count": null,
   "metadata": {},
   "outputs": [],
   "source": []
  }
 ],
 "metadata": {
  "kernelspec": {
   "display_name": "LLM",
   "language": "python",
   "name": "python3"
  },
  "language_info": {
   "codemirror_mode": {
    "name": "ipython",
    "version": 3
   },
   "file_extension": ".py",
   "mimetype": "text/x-python",
   "name": "python",
   "nbconvert_exporter": "python",
   "pygments_lexer": "ipython3",
   "version": "3.11.10"
  }
 },
 "nbformat": 4,
 "nbformat_minor": 2
}
