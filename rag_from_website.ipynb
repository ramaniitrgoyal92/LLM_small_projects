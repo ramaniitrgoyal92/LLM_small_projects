{
 "cells": [
  {
   "cell_type": "code",
   "execution_count": 11,
   "metadata": {},
   "outputs": [],
   "source": [
    "from langchain_ollama import ChatOllama\n",
    "from langchain.prompts import ChatPromptTemplate\n",
    "from langchain_core.output_parsers import StrOutputParser\n",
    "from langchain_core.runnables import RunnablePassthrough\n",
    "\n",
    "# from langchain_huggingface import HuggingFaceEmbeddings\n",
    "from langchain_ollama import OllamaEmbeddings\n",
    "# from langchain_mistralai import MistralAIEmbeddings\n",
    "\n",
    "from langchain import hub\n",
    "from langchain.text_splitter import RecursiveCharacterTextSplitter\n",
    "from langchain_community.document_loaders import WebBaseLoader\n",
    "from langchain_community.vectorstores import Chroma\n",
    "from langchain.docstore.document import Document\n",
    "\n",
    "from bs4 import BeautifulSoup\n",
    "import requests\n",
    "import PyPDF2"
   ]
  },
  {
   "cell_type": "code",
   "execution_count": 12,
   "metadata": {},
   "outputs": [],
   "source": [
    "model = \"llama3.1\"  # \"mistral\" | \"llama3\" | \"phi3\" | \"dolphin-llama3\"\n",
    " \n",
    "llm = ChatOllama(model=model)\n",
    "\n",
    "embd = OllamaEmbeddings(model=model)"
   ]
  },
  {
   "cell_type": "code",
   "execution_count": 14,
   "metadata": {},
   "outputs": [
    {
     "name": "stdout",
     "output_type": "stream",
     "text": [
      "About me - Raman Goyal, Ph.D.Raman Goyal, Ph.D.PublicationsTalksCVRaman GoyalResearch ScientistFollowSan Francisco Bay AreaSRI InternationalEmailGoogle ScholarResearchGateGithubLinkedInAbout meI am currently working as an Advanced Computer Scientist at the renowned Palo Alto Research Center (PARC), part ofSRI International. At PARC-SRI, I am involved in several government and commercially funded interdisciplinary data science projects in the area of Reinforcement Learning, Machine Learning, Motion Planning, Controls & Optimization. I graduated with a Ph.D. from the Department of Aerospace Engineering atTexas A&M Universityin 2020 with a focus on optimal control of soft robotics using data-driven reinforcement learning approaches. I completed my Bachelor’s in Mechanical Engineering from Indian Institute of Technology Roorkee (IIT Roorkee) in 2013.Research Interest:Motion Planning and Feedback Control for Autonomous SystemsReinforcement Learning Algorithms for High-DOF Robotic SystemsOptimal Sensing/Estimation and Uncertainty Quantification for Dynamical SystemsMachine Learning-enhanced Digital Twin Models for Dynamical SystemsAI-driven Digital Twin Infrastructure for System Health Diagnosis and PrognosisEnhancing Privacy and Security Against Adversarial Attacks in Autonomous SystemsMachine Learning-assisted Innovation in Novel Sensor SystemsSystem-level Design and Optimization of Autonomous SystemsSitemapFollow:GitHubFeed© 2024 Raman Goyal. Powered byJekyll&AcademicPages, a fork ofMinimal Mistakes.\n"
     ]
    }
   ],
   "source": [
    "# Fetch the webpage content\n",
    "url = \"https://ramaniitrgoyal92.github.io/\"\n",
    "response = requests.get(url)\n",
    "\n",
    "soup = BeautifulSoup(response.text, 'html.parser')\n",
    "main_text = soup.get_text(strip=True)\n",
    "print(main_text)\n",
    "\n",
    "with open('Raman_website_text.txt', 'w') as file:\n",
    "    file.write(main_text)\n",
    "\n",
    "doc = f\"model name: Raman_website, description: {main_text}\"\n",
    "db = Chroma.from_documents([Document(page_content=doc)], embd, persist_directory=\"chrome_text\")\n",
    "\n",
    "retriever = db.as_retriever(search_kwargs={\"k\": 2})"
   ]
  },
  {
   "cell_type": "code",
   "execution_count": 6,
   "metadata": {},
   "outputs": [
    {
     "name": "stderr",
     "output_type": "stream",
     "text": [
      "⚠️ It looks like you upgraded from a version below 0.6 and could benefit from vacuuming your database. Run chromadb utils vacuum --help for more information.\n"
     ]
    }
   ],
   "source": [
    "# Open and read the PDF\n",
    "with open(\"Raman_website.pdf\", \"rb\") as file:\n",
    "    reader = PyPDF2.PdfReader(file)\n",
    "    pdf_text = \"\"\n",
    "    for page in reader.pages:\n",
    "        pdf_text += page.extract_text()\n",
    "\n",
    "print(pdf_text)\n",
    "# Prepare document for Chroma\n",
    "doc = f\"model name: Raman_website, description: {pdf_text}\"\n",
    "db = Chroma.from_documents([Document(page_content=doc)], embd, persist_directory=\"chrome_text\")\n",
    "\n",
    "retriever = db.as_retriever(search_kwargs={\"k\": 2})\n"
   ]
  },
  {
   "cell_type": "markdown",
   "metadata": {},
   "source": [
    "Without RAG"
   ]
  },
  {
   "cell_type": "code",
   "execution_count": 8,
   "metadata": {},
   "outputs": [
    {
     "data": {
      "text/plain": [
       "\"I don't have information on a person named Raman Goyal. Can you please provide more context or details about who he is or what he is known for? I'll do my best to help.\""
      ]
     },
     "execution_count": 8,
     "metadata": {},
     "output_type": "execute_result"
    }
   ],
   "source": [
    "question = \"Who is Raman Goyal?\"\n",
    "llm_answer = llm.invoke(question)\n",
    "llm_answer.content"
   ]
  },
  {
   "cell_type": "markdown",
   "metadata": {},
   "source": [
    "With RAG"
   ]
  },
  {
   "cell_type": "code",
   "execution_count": 9,
   "metadata": {},
   "outputs": [
    {
     "data": {
      "text/plain": [
       "ChatPromptTemplate(input_variables=['context', 'question'], input_types={}, partial_variables={}, messages=[HumanMessagePromptTemplate(prompt=PromptTemplate(input_variables=['context', 'question'], input_types={}, partial_variables={}, template='Answer the question based only on the following context:\\n{context}\\n\\nQuestion: {question}\\n'), additional_kwargs={})])"
      ]
     },
     "execution_count": 9,
     "metadata": {},
     "output_type": "execute_result"
    }
   ],
   "source": [
    "template = \"\"\"Answer the question based only on the following context:\n",
    "{context}\n",
    "\n",
    "Question: {question}\n",
    "\"\"\"\n",
    "\n",
    "prompt = ChatPromptTemplate.from_template(template)\n",
    "prompt"
   ]
  },
  {
   "cell_type": "code",
   "execution_count": 10,
   "metadata": {},
   "outputs": [
    {
     "data": {
      "text/plain": [
       "\"Raman Goyal is a Research Scientist at Palo Alto Research Center (PARC), part of SRI International. He holds a Ph.D. from the Department of Aerospace Engineering at Texas A&M University and a Bachelor's degree in Mechanical Engineering from Indian Institute of Technology Roorkee.\""
      ]
     },
     "execution_count": 10,
     "metadata": {},
     "output_type": "execute_result"
    }
   ],
   "source": [
    "rag_chain = (\n",
    "    {\"context\": retriever, \"question\": RunnablePassthrough()}\n",
    "    | prompt\n",
    "    | llm\n",
    "    | StrOutputParser()\n",
    ")\n",
    "\n",
    "llm_rag_answer = rag_chain.invoke(question)\n",
    "llm_rag_answer"
   ]
  },
  {
   "cell_type": "markdown",
   "metadata": {},
   "source": []
  }
 ],
 "metadata": {
  "kernelspec": {
   "display_name": "LLM",
   "language": "python",
   "name": "python3"
  },
  "language_info": {
   "codemirror_mode": {
    "name": "ipython",
    "version": 3
   },
   "file_extension": ".py",
   "mimetype": "text/x-python",
   "name": "python",
   "nbconvert_exporter": "python",
   "pygments_lexer": "ipython3",
   "version": "3.11.10"
  }
 },
 "nbformat": 4,
 "nbformat_minor": 2
}
