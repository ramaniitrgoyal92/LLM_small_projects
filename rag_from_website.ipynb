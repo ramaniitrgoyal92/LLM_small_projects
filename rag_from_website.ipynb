{
 "cells": [
  {
   "cell_type": "code",
   "execution_count": 13,
   "metadata": {},
   "outputs": [],
   "source": [
    "from langchain_community.chat_models import ChatOllama\n",
    "from langchain.prompts import ChatPromptTemplate\n",
    "from langchain_core.output_parsers import StrOutputParser\n",
    "from langchain_core.runnables import RunnablePassthrough\n",
    "\n",
    "# from langchain_huggingface import HuggingFaceEmbeddings\n",
    "from langchain_ollama import OllamaEmbeddings\n",
    "# from langchain_mistralai import MistralAIEmbeddings\n",
    "\n",
    "from langchain import hub\n",
    "from langchain.text_splitter import RecursiveCharacterTextSplitter\n",
    "from langchain_community.document_loaders import WebBaseLoader\n",
    "from langchain_community.vectorstores import Chroma\n",
    "from langchain.docstore.document import Document\n",
    "\n",
    "from bs4 import BeautifulSoup\n",
    "import requests"
   ]
  },
  {
   "cell_type": "code",
   "execution_count": 14,
   "metadata": {},
   "outputs": [
    {
     "name": "stdout",
     "output_type": "stream",
     "text": [
      "About me - Raman Goyal, Ph.D.Raman Goyal, Ph.D.PublicationsTalksCVRaman GoyalResearch ScientistFollowSan Francisco Bay AreaSRI InternationalEmailGoogle ScholarResearchGateGithubLinkedInAbout meI am currently working as an Advanced Computer Scientist at the renowned Palo Alto Research Center (PARC), part ofSRI International. At PARC-SRI, I am involved in several government and commercially funded interdisciplinary data science projects in the area of Reinforcement Learning, Machine Learning, Motion Planning, Controls & Optimization. I graduated with a Ph.D. from the Department of Aerospace Engineering atTexas A&M Universityin 2020 with a focus on optimal control of soft robotics using data-driven reinforcement learning approaches. I completed my Bachelor’s in Mechanical Engineering from Indian Institute of Technology Roorkee (IIT Roorkee) in 2013.Research Interest:Motion Planning and Feedback Control for Autonomous SystemsReinforcement Learning Algorithms for High-DOF Robotic SystemsOptimal Sensing/Estimation and Uncertainty Quantification for Dynamical SystemsMachine Learning-enhanced Digital Twin Models for Dynamical SystemsAI-driven Digital Twin Infrastructure for System Health Diagnosis and PrognosisEnhancing Privacy and Security Against Adversarial Attacks in Autonomous SystemsMachine Learning-assisted Innovation in Novel Sensor SystemsSystem-level Design and Optimization of Autonomous SystemsSitemapFollow:GitHubFeed© 2024 Raman Goyal. Powered byJekyll&AcademicPages, a fork ofMinimal Mistakes.\n"
     ]
    }
   ],
   "source": [
    "# Fetch the webpage content\n",
    "url = \"https://ramaniitrgoyal92.github.io/\"\n",
    "response = requests.get(url)\n",
    "\n",
    "soup = BeautifulSoup(response.text, 'html.parser')\n",
    "main_text = soup.get_text(strip=True)\n",
    "print(main_text)\n",
    "\n",
    "with open('Raman_website_text.txt', 'w') as file:\n",
    "    file.write(main_text)"
   ]
  },
  {
   "cell_type": "code",
   "execution_count": 15,
   "metadata": {},
   "outputs": [],
   "source": [
    "model = \"llama3.1\"  # \"mistral\" | \"llama3\" | \"phi3\" | \"dolphin-llama3\"\n",
    " \n",
    "llm = ChatOllama(model=model)\n",
    "\n",
    "embd = OllamaEmbeddings(model=model)\n",
    "\n",
    "doc = f\"model name: Raman_website, description: {main_text}\"\n",
    "db = Chroma.from_documents([Document(page_content=doc)], embd, persist_directory=\"chrome_text\")\n",
    "\n",
    "retriever = db.as_retriever(search_kwargs={\"k\": 2})"
   ]
  },
  {
   "cell_type": "markdown",
   "metadata": {},
   "source": [
    "Without RAG"
   ]
  },
  {
   "cell_type": "code",
   "execution_count": 16,
   "metadata": {},
   "outputs": [
    {
     "data": {
      "text/plain": [
       "\"I don't have enough information to provide a specific answer about who Raman Goyal is. There may be many individuals with that name, and without more context or details, it's challenging to identify the one you're referring to.\\n\\nCould you please provide more information or clarify which Raman Goyal you are asking about? For example, might they be a public figure, an academic, an artist, or someone else? This will help me better understand your question and attempt to give you a more accurate answer.\""
      ]
     },
     "execution_count": 16,
     "metadata": {},
     "output_type": "execute_result"
    }
   ],
   "source": [
    "question = \"Who is Raman Goyal?\"\n",
    "llm_answer = llm.invoke(question)\n",
    "llm_answer.content"
   ]
  },
  {
   "cell_type": "markdown",
   "metadata": {},
   "source": [
    "With RAG"
   ]
  },
  {
   "cell_type": "code",
   "execution_count": 17,
   "metadata": {},
   "outputs": [
    {
     "data": {
      "text/plain": [
       "ChatPromptTemplate(input_variables=['context', 'question'], input_types={}, partial_variables={}, messages=[HumanMessagePromptTemplate(prompt=PromptTemplate(input_variables=['context', 'question'], input_types={}, partial_variables={}, template='Answer the question based only on the following context:\\n{context}\\n\\nQuestion: {question}\\n'), additional_kwargs={})])"
      ]
     },
     "execution_count": 17,
     "metadata": {},
     "output_type": "execute_result"
    }
   ],
   "source": [
    "template = \"\"\"Answer the question based only on the following context:\n",
    "{context}\n",
    "\n",
    "Question: {question}\n",
    "\"\"\"\n",
    "\n",
    "prompt = ChatPromptTemplate.from_template(template)\n",
    "prompt"
   ]
  },
  {
   "cell_type": "code",
   "execution_count": 18,
   "metadata": {},
   "outputs": [
    {
     "data": {
      "text/plain": [
       "\"Raman Goyal is a Research Scientist who currently works as an Advanced Computer Scientist at the Palo Alto Research Center (PARC), part of SRI International. He holds a Ph.D. from Texas A&M University and a Bachelor's in Mechanical Engineering from Indian Institute of Technology Roorkee.\""
      ]
     },
     "execution_count": 18,
     "metadata": {},
     "output_type": "execute_result"
    }
   ],
   "source": [
    "rag_chain = (\n",
    "    {\"context\": retriever, \"question\": RunnablePassthrough()}\n",
    "    | prompt\n",
    "    | llm\n",
    "    | StrOutputParser()\n",
    ")\n",
    "\n",
    "llm_rag_answer = rag_chain.invoke(question)\n",
    "llm_rag_answer"
   ]
  }
 ],
 "metadata": {
  "kernelspec": {
   "display_name": "LLM",
   "language": "python",
   "name": "python3"
  },
  "language_info": {
   "codemirror_mode": {
    "name": "ipython",
    "version": 3
   },
   "file_extension": ".py",
   "mimetype": "text/x-python",
   "name": "python",
   "nbconvert_exporter": "python",
   "pygments_lexer": "ipython3",
   "version": "3.11.10"
  }
 },
 "nbformat": 4,
 "nbformat_minor": 2
}
