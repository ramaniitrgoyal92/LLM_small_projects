{
 "cells": [
  {
   "cell_type": "code",
   "execution_count": 1,
   "metadata": {},
   "outputs": [],
   "source": [
    "from langchain_community.chat_models import ChatOllama\n",
    "from langchain.prompts import ChatPromptTemplate\n",
    "from langchain_core.output_parsers import StrOutputParser\n",
    "\n",
    "import markdown\n",
    "import pdfkit"
   ]
  },
  {
   "cell_type": "markdown",
   "metadata": {},
   "source": [
    "Convert Website to PDF"
   ]
  },
  {
   "cell_type": "code",
   "execution_count": 3,
   "metadata": {},
   "outputs": [
    {
     "data": {
      "text/plain": [
       "True"
      ]
     },
     "execution_count": 3,
     "metadata": {},
     "output_type": "execute_result"
    }
   ],
   "source": [
    "import requests\n",
    "from bs4 import BeautifulSoup\n",
    "\n",
    "# Step 1: Fetch the webpage content\n",
    "url = \"https://ramaniitrgoyal92.github.io/\"  # Replace with the actual URL\n",
    "response = requests.get(url)\n",
    "\n",
    "# Step 2: Parse the webpage content\n",
    "soup = BeautifulSoup(response.text, 'html.parser')\n",
    "\n",
    "# Step 3: Save the parsed HTML to a file\n",
    "with open(\"Raman_website.html\", \"w\", encoding=\"utf-8\") as file:\n",
    "    file.write(soup.prettify())\n",
    "\n",
    "# Manually set the path to wkhtmltopdf executable\n",
    "config = pdfkit.configuration(wkhtmltopdf='C:/Program Files/wkhtmltopdf/bin/wkhtmltopdf.exe')\n",
    "\n",
    "pdfkit.from_file('Raman_website.html', 'Raman_website.pdf', configuration=config)\n"
   ]
  },
  {
   "cell_type": "markdown",
   "metadata": {},
   "source": [
    "Convert PDF to markdown file"
   ]
  },
  {
   "cell_type": "code",
   "execution_count": 4,
   "metadata": {},
   "outputs": [
    {
     "data": {
      "text/plain": [
       "'Raman Goyal, Ph.D.\\nRaman Goyal\\nFollow\\nResearch Scientist\\nAbout me\\nI am currently working as an Advanced Computer Scientist at the renowned Palo Alto Research Center ( PARC ), part of SRI\\nInternational . At PARC\\\\-SRI, I am involved in several government and commercially funded interdisciplinary data science\\nprojects in the area of Reinforcement Learning, Machine Learning, Motion Planning, Controls \\\\& Optimization. I graduated\\nwith a Ph.D. from the Department of Aerospace Engineering at Texas A\\\\&M University in 2020 with a focus on optimal control\\nof soft robotics using data\\\\-driven reinforcement learning approaches. I completed my Bachelor’s in Mechanical Engineering\\nfrom Indian Institute of Technology Roorkee ( IIT Roorkee ) in 2013\\\\.\\nResearch Interest:\\nMotion Planning and Feedback Control for Autonomous Systems\\nReinforcement Learning Algorithms for High\\\\-DOF Robotic Systems\\nOptimal Sensing/Estimation and Uncertainty Quantification for Dynamical Systems\\nMachine Learning\\\\-enhanced Digital Twin Models for Dynamical Systems\\nAI\\\\-driven Digital Twin Infrastructure for System Health Diagnosis and Prognosis\\nEnhancing Privacy and Security Against Adversarial Attacks in Autonomous Systems\\nMachine Learning\\\\-assisted Innovation in Novel Sensor Systems\\nSystem\\\\-level Design and Optimization of Autonomous Systems\\nSitemap\\nFOLLOW:\\uf09b GITHUB \\x00 FEED\\n© 2024 Raman Goyal. Powered by Jekyll \\\\& AcademicPages , a fork of Minimal Mistakes .'"
      ]
     },
     "execution_count": 4,
     "metadata": {},
     "output_type": "execute_result"
    }
   ],
   "source": [
    "import pdfplumber\n",
    "from markdownify import markdownify as md\n",
    "\n",
    "# Extract text from PDF\n",
    "with pdfplumber.open(\"Raman_website.pdf\") as pdf:\n",
    "    text = \"\"\n",
    "    for page in pdf.pages:\n",
    "        text += page.extract_text()\n",
    "\n",
    "# Convert extracted text to Markdown\n",
    "md_resume = md(text)\n",
    "\n",
    "# Save the markdown content to a file\n",
    "with open(\"Raman_website.md\", \"w\", encoding=\"utf-8\") as md_file:\n",
    "    md_file.write(md_resume)\n",
    "\n",
    "md_resume"
   ]
  },
  {
   "cell_type": "markdown",
   "metadata": {},
   "source": [
    "Resume Optimization"
   ]
  },
  {
   "cell_type": "code",
   "execution_count": 5,
   "metadata": {},
   "outputs": [],
   "source": [
    "job_description = \"Machining Learning, controls, optimization and modeling for self driving cars\""
   ]
  },
  {
   "cell_type": "code",
   "execution_count": 9,
   "metadata": {},
   "outputs": [],
   "source": [
    "template = f\"\"\"\n",
    "I have a resume formatted in Markdown and a job description. \\\n",
    "Please adapt my resume to better align with the job requirements while \\\n",
    "maintaining a professional tone. Tailor my skills, experiences, and \\\n",
    "achievements to highlight the most relevant points for the position. \\\n",
    "Ensure that my resume still reflects my unique qualifications and strengths \\\n",
    "but emphasizes the skills and experiences that match the job description.\n",
    "\n",
    "### Here is my resume in Markdown:\n",
    "{md_resume}\n",
    "\n",
    "### Here is the job description:\n",
    "{job_description}\n",
    "\n",
    "Please modify the resume to:\n",
    "- Use keywords and phrases from the job description.\n",
    "- Adjust the bullet points under each role to emphasize relevant skills and achievements.\n",
    "- Make sure my experiences are presented in a way that matches the required qualifications.\n",
    "- Maintain clarity, conciseness, and professionalism throughout.\n",
    "\n",
    "Return the updated resume in Markdown format and dont write anything extra.\n",
    "\n",
    "\"\"\"\n",
    "\n",
    "full_prompt = ChatPromptTemplate.from_template(template)"
   ]
  },
  {
   "cell_type": "code",
   "execution_count": 10,
   "metadata": {},
   "outputs": [
    {
     "name": "stdout",
     "output_type": "stream",
     "text": [
      "Raman Goyal, Ph.D.\n",
      "Research Scientist\n",
      "About me\n",
      "I am currently working as an Advanced Computer Scientist at the renowned Palo Alto Research Center ( PARC ), part of SRI International . At PARC\\-SRI, I lead interdisciplinary data science projects in Machine Learning, Controls & Optimization for self-driving cars and other autonomous systems. My expertise includes Reinforcement Learning, Motion Planning, and Optimal Control.\n",
      "Research Interest:\n",
      "Motion Planning and Feedback Control for Autonomous Systems\n",
      "Reinforcement Learning Algorithms for High\\-DOF Robotic Systems\n",
      "Optimal Sensing/Estimation and Uncertainty Quantification for Dynamical Systems\n",
      "Machine Learning\\-enhanced Digital Twin Models for Self-Driving Cars\n",
      "AI\\-driven Modeling and Simulation for System Health Diagnosis and Prognosis in Autonomous Vehicles\n",
      "Enhancing Privacy and Security Against Adversarial Attacks in Autonomous Systems\n",
      "Machine Learning\\-assisted Innovation in Novel Sensor Systems for Self-Driving Cars\n",
      "System\\-level Design and Optimization of Autonomous Vehicle Control Systems\n",
      "\n",
      "### Research Scientist at PARC-SRI (2020-Present)\n",
      "\n",
      "* Led data science projects in Machine Learning, Controls & Optimization for self-driving cars and other autonomous systems\n",
      "* Developed Reinforcement Learning algorithms for High-DOF robotic systems\n",
      "* Designed Optimal Sensing/Estimation and Uncertainty Quantification methods for dynamical systems\n",
      "* Created Machine Learning-enhanced Digital Twin models for self-driving cars\n",
      "* Implemented AI-driven modeling and simulation for system health diagnosis and prognosis in autonomous vehicles\n",
      "\n",
      "### Ph.D. in Aerospace Engineering, Texas A&M University (2020)\n",
      "\n",
      "* Conducted research on optimal control of soft robotics using data-driven reinforcement learning approaches\n",
      "* Developed expertise in Motion Planning and Feedback Control for Autonomous Systems\n",
      "\n",
      "### Bachelor’s in Mechanical Engineering, IIT Roorkee (2013)\n",
      "\n",
      "* Gained experience in System-level Design and Optimization of Autonomous Vehicle Control Systems\n"
     ]
    }
   ],
   "source": [
    "# LLM\n",
    "model = \"llama3.1\"  # \"mistral\" | \"llama3\" | \"phi3\" | \"dolphin-llama3\"\n",
    "llm = ChatOllama(model=model, temperature=0)\n",
    "\n",
    "# Chain\n",
    "generate_queries_decomposition = (full_prompt | llm  )\n",
    "\n",
    "# Run\n",
    "updated_resume = generate_queries_decomposition.invoke({\"md_resume\":md_resume, \"job_description\":job_description})\n",
    "\n",
    "updated_md_resume = updated_resume.content  # Access the content attribute\n",
    "print(updated_md_resume)"
   ]
  },
  {
   "cell_type": "markdown",
   "metadata": {},
   "source": [
    "Convert Markdown file to PDF"
   ]
  },
  {
   "cell_type": "code",
   "execution_count": 11,
   "metadata": {},
   "outputs": [
    {
     "data": {
      "text/plain": [
       "True"
      ]
     },
     "execution_count": 11,
     "metadata": {},
     "output_type": "execute_result"
    }
   ],
   "source": [
    "# Convert markdown file to HTML\n",
    "with open(\"Raman_website_updated.md\", \"w\", encoding=\"utf-8\") as md_file:\n",
    "    md_file.write(updated_md_resume)\n",
    "\n",
    "html_content = markdown.markdown(updated_md_resume)\n",
    "\n",
    "# Save the HTML content to a temporary file\n",
    "with open(\"Raman_website_updated.html\", \"w\", encoding=\"utf-8\") as html_file:\n",
    "    html_file.write(html_content)\n",
    "\n",
    "# Manually set the path to wkhtmltopdf executable\n",
    "config = pdfkit.configuration(wkhtmltopdf='C:/Program Files/wkhtmltopdf/bin/wkhtmltopdf.exe')\n",
    "\n",
    "# Convert HTML to PDF\n",
    "pdfkit.from_file('Raman_website_updated.html', 'Raman_website_updated.pdf', configuration=config)"
   ]
  },
  {
   "cell_type": "code",
   "execution_count": null,
   "metadata": {},
   "outputs": [],
   "source": []
  }
 ],
 "metadata": {
  "kernelspec": {
   "display_name": "LLM_RAG",
   "language": "python",
   "name": "python3"
  },
  "language_info": {
   "codemirror_mode": {
    "name": "ipython",
    "version": 3
   },
   "file_extension": ".py",
   "mimetype": "text/x-python",
   "name": "python",
   "nbconvert_exporter": "python",
   "pygments_lexer": "ipython3",
   "version": "3.11.9"
  }
 },
 "nbformat": 4,
 "nbformat_minor": 2
}
