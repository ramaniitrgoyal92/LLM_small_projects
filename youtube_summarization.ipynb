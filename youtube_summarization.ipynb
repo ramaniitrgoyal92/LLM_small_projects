{
 "cells": [
  {
   "cell_type": "code",
   "execution_count": 3,
   "metadata": {},
   "outputs": [],
   "source": [
    "from youtube_transcript_api import YouTubeTranscriptApi\n",
    "import re\n",
    "\n",
    "from langchain_community.chat_models import ChatOllama\n",
    "from langchain.prompts import ChatPromptTemplate\n",
    "from langchain_core.output_parsers import StrOutputParser\n"
   ]
  },
  {
   "cell_type": "code",
   "execution_count": 4,
   "metadata": {},
   "outputs": [],
   "source": [
    "# import ssl\n",
    "# ssl._create_default_https_context = ssl._create_unverified_context"
   ]
  },
  {
   "cell_type": "code",
   "execution_count": 5,
   "metadata": {},
   "outputs": [],
   "source": [
    "# Add youtube link\n",
    "youtube_url = \"https://www.youtube.com/watch?v=ilFrDBZXJTk\"\n",
    "\n",
    "# extract video ID with regex\n",
    "video_id_regex = r'(?:v=|\\/)([0-9A-Za-z_-]{11}).*'\n",
    "match = re.search(video_id_regex, youtube_url)\n",
    "\n",
    "video_id = match.group(1)\n",
    "\n",
    "transcript_list = YouTubeTranscriptApi.list_transcripts(video_id=video_id)\n"
   ]
  },
  {
   "cell_type": "code",
   "execution_count": 56,
   "metadata": {},
   "outputs": [
    {
     "name": "stdout",
     "output_type": "stream",
     "text": [
      "ilFrDBZXJTk English (auto-generated) en True True [{'language': 'Abkhazian', 'language_code': 'ab'}, {'language': 'Afar', 'language_code': 'aa'}, {'language': 'Afrikaans', 'language_code': 'af'}, {'language': 'Akan', 'language_code': 'ak'}, {'language': 'Albanian', 'language_code': 'sq'}, {'language': 'Amharic', 'language_code': 'am'}, {'language': 'Arabic', 'language_code': 'ar'}, {'language': 'Armenian', 'language_code': 'hy'}, {'language': 'Assamese', 'language_code': 'as'}, {'language': 'Aymara', 'language_code': 'ay'}, {'language': 'Azerbaijani', 'language_code': 'az'}, {'language': 'Bangla', 'language_code': 'bn'}, {'language': 'Bashkir', 'language_code': 'ba'}, {'language': 'Basque', 'language_code': 'eu'}, {'language': 'Belarusian', 'language_code': 'be'}, {'language': 'Bhojpuri', 'language_code': 'bho'}, {'language': 'Bosnian', 'language_code': 'bs'}, {'language': 'Breton', 'language_code': 'br'}, {'language': 'Bulgarian', 'language_code': 'bg'}, {'language': 'Burmese', 'language_code': 'my'}, {'language': 'Catalan', 'language_code': 'ca'}, {'language': 'Cebuano', 'language_code': 'ceb'}, {'language': 'Chinese (Simplified)', 'language_code': 'zh-Hans'}, {'language': 'Chinese (Traditional)', 'language_code': 'zh-Hant'}, {'language': 'Corsican', 'language_code': 'co'}, {'language': 'Croatian', 'language_code': 'hr'}, {'language': 'Czech', 'language_code': 'cs'}, {'language': 'Danish', 'language_code': 'da'}, {'language': 'Divehi', 'language_code': 'dv'}, {'language': 'Dutch', 'language_code': 'nl'}, {'language': 'Dzongkha', 'language_code': 'dz'}, {'language': 'English', 'language_code': 'en'}, {'language': 'Esperanto', 'language_code': 'eo'}, {'language': 'Estonian', 'language_code': 'et'}, {'language': 'Ewe', 'language_code': 'ee'}, {'language': 'Faroese', 'language_code': 'fo'}, {'language': 'Fijian', 'language_code': 'fj'}, {'language': 'Filipino', 'language_code': 'fil'}, {'language': 'Finnish', 'language_code': 'fi'}, {'language': 'French', 'language_code': 'fr'}, {'language': 'Ga', 'language_code': 'gaa'}, {'language': 'Galician', 'language_code': 'gl'}, {'language': 'Ganda', 'language_code': 'lg'}, {'language': 'Georgian', 'language_code': 'ka'}, {'language': 'German', 'language_code': 'de'}, {'language': 'Greek', 'language_code': 'el'}, {'language': 'Guarani', 'language_code': 'gn'}, {'language': 'Gujarati', 'language_code': 'gu'}, {'language': 'Haitian Creole', 'language_code': 'ht'}, {'language': 'Hausa', 'language_code': 'ha'}, {'language': 'Hawaiian', 'language_code': 'haw'}, {'language': 'Hebrew', 'language_code': 'iw'}, {'language': 'Hindi', 'language_code': 'hi'}, {'language': 'Hmong', 'language_code': 'hmn'}, {'language': 'Hungarian', 'language_code': 'hu'}, {'language': 'Icelandic', 'language_code': 'is'}, {'language': 'Igbo', 'language_code': 'ig'}, {'language': 'Indonesian', 'language_code': 'id'}, {'language': 'Irish', 'language_code': 'ga'}, {'language': 'Italian', 'language_code': 'it'}, {'language': 'Japanese', 'language_code': 'ja'}, {'language': 'Javanese', 'language_code': 'jv'}, {'language': 'Kalaallisut', 'language_code': 'kl'}, {'language': 'Kannada', 'language_code': 'kn'}, {'language': 'Kazakh', 'language_code': 'kk'}, {'language': 'Khasi', 'language_code': 'kha'}, {'language': 'Khmer', 'language_code': 'km'}, {'language': 'Kinyarwanda', 'language_code': 'rw'}, {'language': 'Korean', 'language_code': 'ko'}, {'language': 'Krio', 'language_code': 'kri'}, {'language': 'Kurdish', 'language_code': 'ku'}, {'language': 'Kyrgyz', 'language_code': 'ky'}, {'language': 'Lao', 'language_code': 'lo'}, {'language': 'Latin', 'language_code': 'la'}, {'language': 'Latvian', 'language_code': 'lv'}, {'language': 'Lingala', 'language_code': 'ln'}, {'language': 'Lithuanian', 'language_code': 'lt'}, {'language': 'Luo', 'language_code': 'luo'}, {'language': 'Luxembourgish', 'language_code': 'lb'}, {'language': 'Macedonian', 'language_code': 'mk'}, {'language': 'Malagasy', 'language_code': 'mg'}, {'language': 'Malay', 'language_code': 'ms'}, {'language': 'Malayalam', 'language_code': 'ml'}, {'language': 'Maltese', 'language_code': 'mt'}, {'language': 'Manx', 'language_code': 'gv'}, {'language': 'Māori', 'language_code': 'mi'}, {'language': 'Marathi', 'language_code': 'mr'}, {'language': 'Mongolian', 'language_code': 'mn'}, {'language': 'Morisyen', 'language_code': 'mfe'}, {'language': 'Nepali', 'language_code': 'ne'}, {'language': 'Newari', 'language_code': 'new'}, {'language': 'Northern Sotho', 'language_code': 'nso'}, {'language': 'Norwegian', 'language_code': 'no'}, {'language': 'Nyanja', 'language_code': 'ny'}, {'language': 'Occitan', 'language_code': 'oc'}, {'language': 'Odia', 'language_code': 'or'}, {'language': 'Oromo', 'language_code': 'om'}, {'language': 'Ossetic', 'language_code': 'os'}, {'language': 'Pampanga', 'language_code': 'pam'}, {'language': 'Pashto', 'language_code': 'ps'}, {'language': 'Persian', 'language_code': 'fa'}, {'language': 'Polish', 'language_code': 'pl'}, {'language': 'Portuguese', 'language_code': 'pt'}, {'language': 'Portuguese (Portugal)', 'language_code': 'pt-PT'}, {'language': 'Punjabi', 'language_code': 'pa'}, {'language': 'Quechua', 'language_code': 'qu'}, {'language': 'Romanian', 'language_code': 'ro'}, {'language': 'Rundi', 'language_code': 'rn'}, {'language': 'Russian', 'language_code': 'ru'}, {'language': 'Samoan', 'language_code': 'sm'}, {'language': 'Sango', 'language_code': 'sg'}, {'language': 'Sanskrit', 'language_code': 'sa'}, {'language': 'Scottish Gaelic', 'language_code': 'gd'}, {'language': 'Serbian', 'language_code': 'sr'}, {'language': 'Seselwa Creole French', 'language_code': 'crs'}, {'language': 'Shona', 'language_code': 'sn'}, {'language': 'Sindhi', 'language_code': 'sd'}, {'language': 'Sinhala', 'language_code': 'si'}, {'language': 'Slovak', 'language_code': 'sk'}, {'language': 'Slovenian', 'language_code': 'sl'}, {'language': 'Somali', 'language_code': 'so'}, {'language': 'Southern Sotho', 'language_code': 'st'}, {'language': 'Spanish', 'language_code': 'es'}, {'language': 'Sundanese', 'language_code': 'su'}, {'language': 'Swahili', 'language_code': 'sw'}, {'language': 'Swati', 'language_code': 'ss'}, {'language': 'Swedish', 'language_code': 'sv'}, {'language': 'Tajik', 'language_code': 'tg'}, {'language': 'Tamil', 'language_code': 'ta'}, {'language': 'Tatar', 'language_code': 'tt'}, {'language': 'Telugu', 'language_code': 'te'}, {'language': 'Thai', 'language_code': 'th'}, {'language': 'Tibetan', 'language_code': 'bo'}, {'language': 'Tigrinya', 'language_code': 'ti'}, {'language': 'Tongan', 'language_code': 'to'}, {'language': 'Tsonga', 'language_code': 'ts'}, {'language': 'Tswana', 'language_code': 'tn'}, {'language': 'Tumbuka', 'language_code': 'tum'}, {'language': 'Turkish', 'language_code': 'tr'}, {'language': 'Turkmen', 'language_code': 'tk'}, {'language': 'Ukrainian', 'language_code': 'uk'}, {'language': 'Urdu', 'language_code': 'ur'}, {'language': 'Uyghur', 'language_code': 'ug'}, {'language': 'Uzbek', 'language_code': 'uz'}, {'language': 'Venda', 'language_code': 've'}, {'language': 'Vietnamese', 'language_code': 'vi'}, {'language': 'Waray', 'language_code': 'war'}, {'language': 'Welsh', 'language_code': 'cy'}, {'language': 'Western Frisian', 'language_code': 'fy'}, {'language': 'Wolof', 'language_code': 'wo'}, {'language': 'Xhosa', 'language_code': 'xh'}, {'language': 'Yiddish', 'language_code': 'yi'}, {'language': 'Yoruba', 'language_code': 'yo'}, {'language': 'Zulu', 'language_code': 'zu'}]\n",
      "[{'text': 'by using accelerators scientists that', 'start': 9.63, 'duration': 5.83}, {'text': 'achieve many fundamental discoveries', 'start': 13.0, 'duration': 4.53}, {'text': 'regarding the structure of matter at', 'start': 15.46, 'duration': 4.8}, {'text': 'CERN the European Organization for', 'start': 17.53, 'duration': 4.77}, {'text': 'Nuclear Research the Large Hadron', 'start': 20.26, 'duration': 6.15}, {'text': 'Collider or LHC has recently led to', 'start': 22.3, 'duration': 9.84}, {'text': 'discovery of the Higgs boson the LHC is', 'start': 26.41, 'duration': 7.589}, {'text': 'located at the border of France and', 'start': 32.14, 'duration': 4.62}, {'text': 'Switzerland in a ring of superconducting', 'start': 33.999, 'duration': 6.0}, {'text': 'magnets tunnel of more than 27', 'start': 36.76, 'duration': 7.2}, {'text': 'kilometers but accelerators are commonly', 'start': 39.999, 'duration': 6.301}, {'text': 'used and the annual market for', 'start': 43.96, 'duration': 5.039}, {'text': 'industrial accelerator is estimated to', 'start': 46.3, 'duration': 5.999}, {'text': 'several billion euro they use', 'start': 48.999, 'duration': 5.91}, {'text': 'radiofrequency cavities to accelerate', 'start': 52.299, 'duration': 5.19}, {'text': 'charged particle to speed close to the', 'start': 54.909, 'duration': 6.0}, {'text': 'speed of light electric field within the', 'start': 57.489, 'duration': 8.191}, {'text': 'scaritage are limited to few 10 of mega', 'start': 60.909, 'duration': 7.85}, {'text': 'volt parameters so this technology', 'start': 65.68, 'duration': 5.57}, {'text': 'requires building accelerator', 'start': 68.759, 'duration': 5.29}, {'text': 'increasingly large to continue to obtain', 'start': 71.25, 'duration': 6.789}, {'text': 'more and more energetic particles to', 'start': 74.049, 'duration': 6.481}, {'text': 'address this issue I decided to look', 'start': 78.039, 'duration': 6.811}, {'text': 'more into the plasma medium a plasma', 'start': 80.53, 'duration': 7.47}, {'text': 'medium is a unite major consisting of', 'start': 84.85, 'duration': 6.39}, {'text': 'free electrons and ions and because we', 'start': 88.0, 'duration': 5.85}, {'text': 'are free electron the plasma can sustain', 'start': 91.24, 'duration': 5.97}, {'text': 'a very large electric field we value', 'start': 93.85, 'duration': 6.57}, {'text': 'that can exceed thousand or ten thousand', 'start': 97.21, 'duration': 6.119}, {'text': 'times greater value than those that are', 'start': 100.42, 'duration': 6.72}, {'text': 'using commercial accelerators a plasma', 'start': 103.329, 'duration': 6.21}, {'text': 'combined with laser within two', 'start': 107.14, 'duration': 5.46}, {'text': 'accelerator huth may open new doors for', 'start': 109.539, 'duration': 6.57}, {'text': 'the future by focusing an intense laser', 'start': 112.6, 'duration': 5.909}, {'text': 'pulse on the gas target the giant', 'start': 116.109, 'duration': 6.0}, {'text': 'electric field strip the atom and', 'start': 118.509, 'duration': 6.511}, {'text': 'removed the electron from the ions only', 'start': 122.109, 'duration': 6.421}, {'text': 'create the plasma medium and the laser', 'start': 125.02, 'duration': 5.94}, {'text': 'will push the electron away from the', 'start': 128.53, 'duration': 5.37}, {'text': 'ions so it creates what we call the', 'start': 130.96, 'duration': 6.779}, {'text': 'Wakefield this is very similar of a boat', 'start': 133.9, 'duration': 7.05}, {'text': 'that create a wave in his wake on the', 'start': 137.739, 'duration': 7.401}, {'text': 'lake if this wave is sufficiently large', 'start': 140.95, 'duration': 7.89}, {'text': \"the software's can use it to gain the\", 'start': 145.14, 'duration': 6.64}, {'text': 'speed and this is exactly what we do in', 'start': 148.84, 'duration': 5.64}, {'text': 'our experiment we have a plasma wave and', 'start': 151.78, 'duration': 6.03}, {'text': 'the electron are like the surfers they', 'start': 154.48, 'duration': 4.8}, {'text': 'are trapped by the wave and they are', 'start': 157.81, 'duration': 4.849}, {'text': 'accelerated to whole atavistic speed', 'start': 159.28, 'duration': 7.95}, {'text': 'food at elway laboratoire deputy capita', 'start': 162.659, 'duration': 7.781}, {'text': 'or applied optic laboratory we produce a', 'start': 167.23, 'duration': 6.72}, {'text': 'huge waves behind the laser pulse and we', 'start': 170.44, 'duration': 6.54}, {'text': 'use them to accelerate electrons we have', 'start': 173.95, 'duration': 6.539}, {'text': 'a ch2 face ten years ago to many', 'start': 176.98, 'duration': 6.39}, {'text': 'scientific and technological channels to', 'start': 180.489, 'duration': 6.12}, {'text': \"do so but we've worked per month we have\", 'start': 183.37, 'duration': 6.209}, {'text': 'now succeed in producing a beam of', 'start': 186.609, 'duration': 6.901}, {'text': 'particles and a x-ray that are very', 'start': 189.579, 'duration': 6.121}, {'text': 'similar to the best that are obtained', 'start': 193.51, 'duration': 4.71}, {'text': 'today with commercial accelerators but', 'start': 195.7, 'duration': 7.02}, {'text': 'only within a few meters machine the', 'start': 198.22, 'duration': 6.629}, {'text': 'Scientific Revolution opens many', 'start': 202.72, 'duration': 5.04}, {'text': 'perspective and application for example', 'start': 204.849, 'duration': 5.431}, {'text': 'in material science laser plasma', 'start': 207.76, 'duration': 5.64}, {'text': 'accelerator can be used to inspect dense', 'start': 210.28, 'duration': 7.079}, {'text': 'matter without destroying it for example', 'start': 213.4, 'duration': 6.269}, {'text': 'they are used to detect cracks in', 'start': 217.359, 'duration': 4.201}, {'text': 'critical components of nuclear power', 'start': 219.669, 'duration': 6.271}, {'text': 'plants tanks and pipes in a rural domain', 'start': 221.56, 'duration': 7.799}, {'text': 'in hydrotherapy they are experiment to', 'start': 225.94, 'duration': 5.579}, {'text': 'do a follow-up of the Super Bowl and', 'start': 229.359, 'duration': 5.401}, {'text': 'repair rate of human cells irradiated by', 'start': 231.519, 'duration': 6.451}, {'text': 'electron beams the study of the effect', 'start': 234.76, 'duration': 5.909}, {'text': 'of rising radiation therapy on living', 'start': 237.97, 'duration': 5.37}, {'text': 'tissue could help to improve cancer', 'start': 240.669, 'duration': 7.021}, {'text': 'treatment in medical imaging x-ray beam', 'start': 243.34, 'duration': 7.289}, {'text': 'are used to produce images with', 'start': 247.69, 'duration': 6.24}, {'text': 'unprecedent resolution this imagining', 'start': 250.629, 'duration': 5.7}, {'text': 'technique which is called a phase', 'start': 253.93, 'duration': 5.13}, {'text': 'contrast image is unique by the eye', 'start': 256.329, 'duration': 6.601}, {'text': 'resolution of a few micrometers apply to', 'start': 259.06, 'duration': 6.51}, {'text': 'the case of breast cancer it could up to', 'start': 262.93, 'duration': 3.3}, {'text': 'the', 'start': 265.57, 'duration': 3.95}, {'text': 'a consumer at the very early stage and', 'start': 266.23, 'duration': 8.21}, {'text': 'therefore to cure it more efficiently', 'start': 269.52, 'duration': 4.92}]\n",
      "by using accelerators scientists that  achieve many fundamental discoveries  regarding the structure of matter at  CERN the European Organization for  Nuclear Research the Large Hadron  Collider or LHC has recently led to  discovery of the Higgs boson the LHC is  located at the border of France and  Switzerland in a ring of superconducting  magnets tunnel of more than 27  kilometers but accelerators are commonly  used and the annual market for  industrial accelerator is estimated to  several billion euro they use  radiofrequency cavities to accelerate  charged particle to speed close to the  speed of light electric field within the  scaritage are limited to few 10 of mega  volt parameters so this technology  requires building accelerator  increasingly large to continue to obtain  more and more energetic particles to  address this issue I decided to look  more into the plasma medium a plasma  medium is a unite major consisting of  free electrons and ions and because we  are free electron the plasma can sustain  a very large electric field we value  that can exceed thousand or ten thousand  times greater value than those that are  using commercial accelerators a plasma  combined with laser within two  accelerator huth may open new doors for  the future by focusing an intense laser  pulse on the gas target the giant  electric field strip the atom and  removed the electron from the ions only  create the plasma medium and the laser  will push the electron away from the  ions so it creates what we call the  Wakefield this is very similar of a boat  that create a wave in his wake on the  lake if this wave is sufficiently large  the software's can use it to gain the  speed and this is exactly what we do in  our experiment we have a plasma wave and  the electron are like the surfers they  are trapped by the wave and they are  accelerated to whole atavistic speed  food at elway laboratoire deputy capita  or applied optic laboratory we produce a  huge waves behind the laser pulse and we  use them to accelerate electrons we have  a ch2 face ten years ago to many  scientific and technological channels to  do so but we've worked per month we have  now succeed in producing a beam of  particles and a x-ray that are very  similar to the best that are obtained  today with commercial accelerators but  only within a few meters machine the  Scientific Revolution opens many  perspective and application for example  in material science laser plasma  accelerator can be used to inspect dense  matter without destroying it for example  they are used to detect cracks in  critical components of nuclear power  plants tanks and pipes in a rural domain  in hydrotherapy they are experiment to  do a follow-up of the Super Bowl and  repair rate of human cells irradiated by  electron beams the study of the effect  of rising radiation therapy on living  tissue could help to improve cancer  treatment in medical imaging x-ray beam  are used to produce images with  unprecedent resolution this imagining  technique which is called a phase  contrast image is unique by the eye  resolution of a few micrometers apply to  the case of breast cancer it could up to  the  a consumer at the very early stage and  therefore to cure it more efficiently\n"
     ]
    }
   ],
   "source": [
    "\n",
    "# iterate over all available transcripts\n",
    "for transcript in transcript_list:\n",
    "\n",
    "    # the Transcript object provides metadata properties\n",
    "    print(\n",
    "        transcript.video_id,\n",
    "        transcript.language,\n",
    "        transcript.language_code,\n",
    "        # whether it has been manually created or generated by YouTube\n",
    "        transcript.is_generated,\n",
    "        # whether this transcript can be translated or not\n",
    "        transcript.is_translatable,\n",
    "        # a list of languages the transcript can be translated to\n",
    "        transcript.translation_languages,\n",
    "    )\n",
    "\n",
    "    # fetch the actual transcript data\n",
    "    print(transcript.fetch())\n",
    "\n",
    "    # translating the transcript will return another transcript object\n",
    "    transcript_data = transcript.translate('en').fetch()\n",
    "    text = \"\\n\".join([item['text'] for item in transcript_data])\n",
    "    print(text)\n",
    "\n"
   ]
  },
  {
   "cell_type": "code",
   "execution_count": 52,
   "metadata": {},
   "outputs": [],
   "source": [
    "\n",
    "# you can also directly filter for the language you are looking for, using the transcript list\n",
    "# transcript = transcript_list.find_transcript(['de', 'en'])  \n",
    "# print(transcript.fetch())\n",
    "\n",
    "# or just filter for manually created transcripts  \n",
    "# transcript = transcript_list.find_manually_created_transcript(['de', 'en'])  \n",
    "# print(transcript.fetch())\n",
    "\n",
    "# or automatically generated ones  \n",
    "# transcript = transcript_list.find_generated_transcript(['de', 'en'])\n",
    "# print(transcript.translate('en').fetch())\n"
   ]
  },
  {
   "cell_type": "code",
   "execution_count": 53,
   "metadata": {},
   "outputs": [],
   "source": [
    "template = \"\"\"Please provide the summary for the following: {text}\"\"\"\n",
    "\n",
    "full_prompt = ChatPromptTemplate.from_template(template)"
   ]
  },
  {
   "cell_type": "code",
   "execution_count": 55,
   "metadata": {},
   "outputs": [
    {
     "data": {
      "text/plain": [
       "[\"Here's a summary of the text:\",\n",
       " '',\n",
       " 'The Large Hadron Collider (LHC) at CERN has led to many fundamental discoveries, including the discovery of the Higgs boson. However, as scientists seek to accelerate particles to even higher energies, they face limitations with traditional accelerators. To overcome this issue, researchers have turned to plasma-based accelerators, which can sustain much larger electric fields than commercial accelerators.',\n",
       " '',\n",
       " \"A team at Laboratoire d'Optique Appliquée (LOA) has successfully accelerated electrons using a laser-plasma accelerator, producing a beam of particles and X-rays similar to those obtained with commercial accelerators. This technology has many potential applications, including:\",\n",
       " '',\n",
       " '* Material science: inspecting dense matter without destroying it',\n",
       " '* Medical imaging: producing high-resolution images for cancer diagnosis and treatment',\n",
       " '* Radiation therapy: improving cancer treatment by studying the effects of radiation on living tissue',\n",
       " '* Hydrotherapy: following up on the repair rate of human cells irradiated by electron beams',\n",
       " '',\n",
       " 'The use of laser-plasma accelerators could lead to significant breakthroughs in these fields, with potential benefits including earlier detection and more efficient treatment of breast cancer.']"
      ]
     },
     "execution_count": 55,
     "metadata": {},
     "output_type": "execute_result"
    }
   ],
   "source": [
    "# LLM\n",
    "model = \"llama3.1\"  # \"mistral\" | \"llama3\" | \"phi3\" | \"dolphin-llama3\"\n",
    "llm = ChatOllama(model=model, temperature=0)\n",
    "\n",
    "# Chain\n",
    "generate_queries_decomposition = (full_prompt | llm | StrOutputParser() | (lambda x: x.split(\"\\n\")))\n",
    "\n",
    "# Run\n",
    "summary = generate_queries_decomposition.invoke({\"text\":text})\n",
    "summary"
   ]
  },
  {
   "cell_type": "code",
   "execution_count": null,
   "metadata": {},
   "outputs": [],
   "source": []
  }
 ],
 "metadata": {
  "kernelspec": {
   "display_name": "LLM",
   "language": "python",
   "name": "python3"
  },
  "language_info": {
   "codemirror_mode": {
    "name": "ipython",
    "version": 3
   },
   "file_extension": ".py",
   "mimetype": "text/x-python",
   "name": "python",
   "nbconvert_exporter": "python",
   "pygments_lexer": "ipython3",
   "version": "3.11.10"
  }
 },
 "nbformat": 4,
 "nbformat_minor": 2
}
