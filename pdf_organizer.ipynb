{
 "cells": [
  {
   "cell_type": "code",
   "execution_count": 44,
   "metadata": {},
   "outputs": [],
   "source": [
    "from langchain_ollama import OllamaEmbeddings\n",
    "import pymupdf\n",
    "import pandas as pd\n",
    "import os\n",
    "\n",
    "from sklearn.cluster import DBSCAN, KMeans\n",
    "from sklearn.preprocessing import StandardScaler\n",
    "import shutil"
   ]
  },
  {
   "cell_type": "code",
   "execution_count": 45,
   "metadata": {},
   "outputs": [],
   "source": [
    "model = \"llama3.1\"  # \"mistral\" | \"llama3\" | \"phi3\" | \"dolphin-llama3\"\n",
    " \n",
    "# llm = ChatOllama(model=model)\n",
    "\n",
    "embedder = OllamaEmbeddings(model=model)"
   ]
  },
  {
   "cell_type": "code",
   "execution_count": 47,
   "metadata": {},
   "outputs": [
    {
     "name": "stdout",
     "output_type": "stream",
     "text": [
      "                                            Filename  \\\n",
      "0  C1-Design and Control of Growth Adaptable Arti...   \n",
      "1  C10-Integrating structure and control design u...   \n",
      "2  C11-Joint Optimization of Plant, Controller, a...   \n",
      "3      C12-Gyroscopic Tensegrity System Dynamics.pdf   \n",
      "4  C13-Model and Data Based Approaches to the Con...   \n",
      "\n",
      "                                            Abstract  \\\n",
      "0   Design and Control of Growth Adaptable Artiﬁcial   \n",
      "1  ABSTRACT:\\nThis paper provides a novel approac...   \n",
      "2  Abstract— This\\npaper\\npresents\\na\\nLinear\\nMa...   \n",
      "3  Abstract— Mechanics and control of innovative ...   \n",
      "4  Abstract— This paper proposes two approaches t...   \n",
      "\n",
      "                                           Embedding  \n",
      "0  [-0.0034896785, 0.004134818, 0.02365485, -0.00...  \n",
      "1  [-0.017065702, -0.029780408, 0.002489877, 0.00...  \n",
      "2  [-0.0074446937, -0.032236487, 0.021474421, 0.0...  \n",
      "3  [-0.01603647, -0.03346196, 0.030032031, 0.0095...  \n",
      "4  [-0.014418024, -0.034438383, 0.029893901, 0.00...  \n"
     ]
    }
   ],
   "source": [
    "# Function to extract abstracts from PDFs\n",
    "def extract_abstract_from_pdfs(folder_path):\n",
    "    abstracts = []\n",
    "    filenames = []\n",
    "    for filename in os.listdir(folder_path):\n",
    "        if filename.endswith(\".pdf\"):\n",
    "            file_path = os.path.join(folder_path, filename)\n",
    "            with pymupdf.open(file_path) as pdf_file:\n",
    "                text = \"\"\n",
    "                for page_num in range(min(3, pdf_file.page_count)):  # Scanning first 3 pages\n",
    "                    page = pdf_file[page_num]\n",
    "                    text += page.get_text()\n",
    "                # Simple heuristic: Look for the 'Abstract' keyword\n",
    "                abstract_start = text.lower().find(\"abstract\")\n",
    "                if abstract_start != -1:\n",
    "                    abstract_end = text.lower().find(\"introduction\", abstract_start)\n",
    "                    abstract = text[abstract_start:abstract_end].strip() if abstract_end != -1 else text[abstract_start:].strip()\n",
    "                    # print(f\"Abstract from {filename}:\\n{abstract}\\n\")\n",
    "                else:\n",
    "                    # Extract title (assume it's the first line or first few lines)\n",
    "                    title = text.splitlines()[0] if text else \"Title not found.\"\n",
    "                    abstract = title\n",
    "\n",
    "                abstracts.append(abstract)\n",
    "                filenames.append(filename)\n",
    "    \n",
    "    return filenames, abstracts\n",
    "\n",
    "\n",
    "# Function to convert abstracts to embeddings and store in DataFrame using ollamaembeddings\n",
    "def convert_abstracts_to_embeddings(folder_path):\n",
    "    filenames, abstracts = extract_abstract_from_pdfs(folder_path)\n",
    "    \n",
    "    # Get embeddings from ollamaembeddings\n",
    "    embeddings = embedder.embed_documents(abstracts)  # Embedding for documents\n",
    "    \n",
    "    # Create DataFrame\n",
    "    df = pd.DataFrame({\n",
    "        'Filename': filenames,\n",
    "        'Abstract': abstracts,\n",
    "        'Embedding': embeddings  # Embeddings stored as list\n",
    "    })\n",
    "    \n",
    "    return df\n",
    "\n",
    "# Usage\n",
    "folder_path = \"Published Conferences\"\n",
    "df = convert_abstracts_to_embeddings(folder_path)\n",
    "print(df.head())\n"
   ]
  },
  {
   "cell_type": "code",
   "execution_count": 59,
   "metadata": {},
   "outputs": [
    {
     "name": "stdout",
     "output_type": "stream",
     "text": [
      "                                            Filename  \\\n",
      "0  C1-Design and Control of Growth Adaptable Arti...   \n",
      "1  C10-Integrating structure and control design u...   \n",
      "2  C11-Joint Optimization of Plant, Controller, a...   \n",
      "3      C12-Gyroscopic Tensegrity System Dynamics.pdf   \n",
      "4  C13-Model and Data Based Approaches to the Con...   \n",
      "\n",
      "                                            Abstract  \\\n",
      "0   Design and Control of Growth Adaptable Artiﬁcial   \n",
      "1  ABSTRACT:\\nThis paper provides a novel approac...   \n",
      "2  Abstract— This\\npaper\\npresents\\na\\nLinear\\nMa...   \n",
      "3  Abstract— Mechanics and control of innovative ...   \n",
      "4  Abstract— This paper proposes two approaches t...   \n",
      "\n",
      "                                           Embedding  Cluster  \n",
      "0  [-0.0034896785, 0.004134818, 0.02365485, -0.00...       -1  \n",
      "1  [-0.017065702, -0.029780408, 0.002489877, 0.00...        0  \n",
      "2  [-0.0074446937, -0.032236487, 0.021474421, 0.0...        1  \n",
      "3  [-0.01603647, -0.03346196, 0.030032031, 0.0095...       -1  \n",
      "4  [-0.014418024, -0.034438383, 0.029893901, 0.00...        2  \n"
     ]
    }
   ],
   "source": [
    "# Clustering function\n",
    "def cluster_embeddings(df):\n",
    "    embeddings = df['Embedding'].tolist()\n",
    "\n",
    "    # Standardize the embeddings\n",
    "    embeddings_scaled = StandardScaler().fit_transform(embeddings)\n",
    "\n",
    "    # Apply DBSCAN clustering\n",
    "    cluster_model = DBSCAN(eps=.4, min_samples=2, metric='cosine')  # Adjust eps and min_samples as needed\n",
    "\n",
    "    # Apply KMeans clustering\n",
    "    # cluster_model = KMeans(n_clusters=5)\n",
    "\n",
    "    clusters = cluster_model.fit_predict(embeddings_scaled)\n",
    "\n",
    "    # Add clusters to DataFrame\n",
    "    df['Cluster'] = clusters\n",
    "    return df\n",
    "\n",
    "# Apply clustering\n",
    "df_with_clusters = cluster_embeddings(df)\n",
    "\n",
    "# Print the resulting DataFrame with cluster labels\n",
    "print(df_with_clusters.head())\n",
    "df_with_clusters.to_csv(\"Published Conferences/embeded_data.csv\",index=False)"
   ]
  },
  {
   "cell_type": "code",
   "execution_count": 60,
   "metadata": {},
   "outputs": [],
   "source": [
    "def create_cluster_folders_and_move_files(df, base_folder):\n",
    "    # Create base folder if it doesn't exist\n",
    "    os.makedirs(base_folder, exist_ok=True)\n",
    "\n",
    "    # Move files to their respective cluster folders\n",
    "    for cluster in df['Cluster'].unique():\n",
    "        cluster_folder = os.path.join(base_folder, f'Cluster_{cluster}')\n",
    "        os.makedirs(cluster_folder, exist_ok=True)\n",
    "\n",
    "        # Move files belonging to the current cluster\n",
    "        for _, row in df[df['Cluster'] == cluster].iterrows():\n",
    "            filename = row['Filename']\n",
    "            # Define the source path\n",
    "            source_path = os.path.join(base_folder, filename)\n",
    "            # Move the file\n",
    "            shutil.copy(source_path, os.path.join(cluster_folder, filename))\n",
    "\n",
    "# Usage example\n",
    "create_cluster_folders_and_move_files(df_with_clusters, \"Published Conferences\")\n"
   ]
  }
 ],
 "metadata": {
  "kernelspec": {
   "display_name": "LLM",
   "language": "python",
   "name": "python3"
  },
  "language_info": {
   "codemirror_mode": {
    "name": "ipython",
    "version": 3
   },
   "file_extension": ".py",
   "mimetype": "text/x-python",
   "name": "python",
   "nbconvert_exporter": "python",
   "pygments_lexer": "ipython3",
   "version": "3.11.10"
  }
 },
 "nbformat": 4,
 "nbformat_minor": 2
}
